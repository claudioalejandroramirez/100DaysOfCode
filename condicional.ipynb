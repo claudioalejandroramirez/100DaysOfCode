{
  "nbformat": 4,
  "nbformat_minor": 0,
  "metadata": {
    "colab": {
      "provenance": [],
      "authorship_tag": "ABX9TyNC3Zro3f2baoAMDYspK5EL",
      "include_colab_link": true
    },
    "kernelspec": {
      "name": "python3",
      "display_name": "Python 3"
    },
    "language_info": {
      "name": "python"
    }
  },
  "cells": [
    {
      "cell_type": "markdown",
      "metadata": {
        "id": "view-in-github",
        "colab_type": "text"
      },
      "source": [
        "<a href=\"https://colab.research.google.com/github/claudioalejandroramirez/estudos-aleatorios/blob/main/condicional.ipynb\" target=\"_parent\"><img src=\"https://colab.research.google.com/assets/colab-badge.svg\" alt=\"Open In Colab\"/></a>"
      ]
    },
    {
      "cell_type": "code",
      "execution_count": null,
      "metadata": {
        "colab": {
          "base_uri": "https://localhost:8080/"
        },
        "id": "zf5HJXajesBQ",
        "outputId": "22b4c076-0f48-4a4a-e8c2-0efe4de9f695"
      },
      "outputs": [
        {
          "output_type": "stream",
          "name": "stdout",
          "text": [
            "Digite a primeira nota: 10\n",
            "Digite a segunda nota: 10\n",
            "aprovado\n",
            "parabens\n",
            "Sua média é 10.0\n"
          ]
        }
      ],
      "source": [
        "#simples / composto / encadeado\n",
        "\n",
        "n1 = n2 = 0.0\n",
        "\n",
        "media = 0.0\n",
        "\n",
        "n1 = float(input('Digite a primeira nota: '))\n",
        "n2 = float(input('Digite a segunda nota: '))\n",
        "\n",
        "#calcular a media aritimetica\n",
        "media = (n1 +n2) /2\n",
        "\n",
        "if (media >= 7):\n",
        "    print('aprovado')\n",
        "    print('parabens')\n",
        "elif (media >= 5):\n",
        "    print('recuperação')\n",
        "else:\n",
        "    print('reprovado')\n",
        "\n",
        "print('Sua média é {}'.format(media))"
      ]
    }
  ]
}