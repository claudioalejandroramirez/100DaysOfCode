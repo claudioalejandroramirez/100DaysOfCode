{
  "nbformat": 4,
  "nbformat_minor": 0,
  "metadata": {
    "colab": {
      "provenance": [],
      "authorship_tag": "ABX9TyPMHianG0e2rChyB/4ozIlw",
      "include_colab_link": true
    },
    "kernelspec": {
      "name": "python3",
      "display_name": "Python 3"
    },
    "language_info": {
      "name": "python"
    }
  },
  "cells": [
    {
      "cell_type": "markdown",
      "metadata": {
        "id": "view-in-github",
        "colab_type": "text"
      },
      "source": [
        "<a href=\"https://colab.research.google.com/github/claudioalejandroramirez/estudos-aleatorios/blob/main/exce%C3%A7%C3%B5es_raise.ipynb\" target=\"_parent\"><img src=\"https://colab.research.google.com/assets/colab-badge.svg\" alt=\"Open In Colab\"/></a>"
      ]
    },
    {
      "cell_type": "code",
      "execution_count": 10,
      "metadata": {
        "colab": {
          "base_uri": "https://localhost:8080/"
        },
        "id": "JQM_CCFUvzvA",
        "outputId": "5ea012fd-5973-43d5-d695-36493af60a68"
      },
      "outputs": [
        {
          "output_type": "stream",
          "name": "stdout",
          "text": [
            "Digite um numero positivo: 10\n",
            "A raiz quadrada de 10 é igual a 3.16\n",
            "Fim do Cálculo\n"
          ]
        }
      ],
      "source": [
        "# não preciso esperar o python alertar alguma coisa, posso forçar isso\n",
        "\n",
        "from math import sqrt\n",
        "\n",
        "if __name__ == '__main__':\n",
        "\n",
        "    while True:\n",
        "        try:\n",
        "            num = int(input('Digite um numero positivo: '))\n",
        "            if num < 0:\n",
        "                raise ArithmeticError\n",
        "\n",
        "        except ArithmeticError:\n",
        "            print(f'Digite novamente, um número positivo dessa vez!')\n",
        "        except ValueError:\n",
        "            print('Digite um número inteiro')\n",
        "        else:\n",
        "            try:\n",
        "                r = sqrt(num)\n",
        "            except:\n",
        "                print('Algo deu errado')\n",
        "            else:\n",
        "                print(f'A raiz quadrada de {num} é igual a {round(r, 2)}')\n",
        "            finally:\n",
        "                print('Fim do Cálculo')\n",
        "                break"
      ]
    }
  ]
}