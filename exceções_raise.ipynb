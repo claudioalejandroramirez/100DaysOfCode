{
  "nbformat": 4,
  "nbformat_minor": 0,
  "metadata": {
    "colab": {
      "provenance": [],
      "authorship_tag": "ABX9TyOlbkWaDVAeFl7eyCmOFP/M",
      "include_colab_link": true
    },
    "kernelspec": {
      "name": "python3",
      "display_name": "Python 3"
    },
    "language_info": {
      "name": "python"
    }
  },
  "cells": [
    {
      "cell_type": "markdown",
      "metadata": {
        "id": "view-in-github",
        "colab_type": "text"
      },
      "source": [
        "<a href=\"https://colab.research.google.com/github/claudioalejandroramirez/estudos-aleatorios/blob/main/exce%C3%A7%C3%B5es_raise.ipynb\" target=\"_parent\"><img src=\"https://colab.research.google.com/assets/colab-badge.svg\" alt=\"Open In Colab\"/></a>"
      ]
    },
    {
      "cell_type": "code",
      "execution_count": 7,
      "metadata": {
        "colab": {
          "base_uri": "https://localhost:8080/"
        },
        "id": "JQM_CCFUvzvA",
        "outputId": "de105feb-300b-4aa2-959e-f601fafa3650"
      },
      "outputs": [
        {
          "output_type": "stream",
          "name": "stdout",
          "text": [
            "Digite um numero positivo: 4\n",
            "A raiz quadrada de 4 é igual a 2.0\n",
            "Fim do Cálculo\n"
          ]
        }
      ],
      "source": [
        "# não preciso esperar o python alertar alguma coisa, posso forçar isso\n",
        "\n",
        "from math import sqrt\n",
        "\n",
        "if __name__ == '__main__':\n",
        "  try:\n",
        "    num = int(input('Digite um numero positivo: '))\n",
        "    if num < 0:\n",
        "      raise ArithmetcError\n",
        "  except ArithmetcError:\n",
        "      print(f'Digite novamente, um número positivo dessa vez!')\n",
        "  else:\n",
        "      print(f'A raiz quadrada de {num} é igual a {sqrt(num)}')\n",
        "  finally:\n",
        "    print('Fim do Cálculo')"
      ]
    }
  ]
}