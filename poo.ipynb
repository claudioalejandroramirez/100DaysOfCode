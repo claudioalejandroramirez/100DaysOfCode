{
  "nbformat": 4,
  "nbformat_minor": 0,
  "metadata": {
    "colab": {
      "provenance": [],
      "authorship_tag": "ABX9TyOcrA8wI+57xSlfLcC/z4tb",
      "include_colab_link": true
    },
    "kernelspec": {
      "name": "python3",
      "display_name": "Python 3"
    },
    "language_info": {
      "name": "python"
    }
  },
  "cells": [
    {
      "cell_type": "markdown",
      "metadata": {
        "id": "view-in-github",
        "colab_type": "text"
      },
      "source": [
        "<a href=\"https://colab.research.google.com/github/claudioalejandroramirez/estudos-aleatorios/blob/main/poo.ipynb\" target=\"_parent\"><img src=\"https://colab.research.google.com/assets/colab-badge.svg\" alt=\"Open In Colab\"/></a>"
      ]
    },
    {
      "cell_type": "code",
      "execution_count": 14,
      "metadata": {
        "colab": {
          "base_uri": "https://localhost:8080/"
        },
        "id": "H_EZo7izWTYk",
        "outputId": "d48ecaf8-4b04-4340-8821-750f4941ed2a"
      },
      "outputs": [
        {
          "output_type": "stream",
          "name": "stdout",
          "text": [
            "sou um veículo e me desloco!\n",
            "Modelo: Onix, Fabricante: GM\n",
            "None\n",
            "o numero do registro é: 123\n"
          ]
        }
      ],
      "source": [
        "##orientação de objeto em python\n",
        "\n",
        "class Veiculo:\n",
        "  #a classe tem que ter, atributos e metodos\n",
        "  #atributos são similares as variáveis\n",
        "  #métodos são similares às funções/ação\n",
        "  def movimentar(self):\n",
        "    #utiliza-se o 'self' para se referir exclusivamente a esse objeto\n",
        "    print(f'sou um veículo e me desloco!')\n",
        "\n",
        "  def __init__(self, fabricante, modelo):\n",
        "    self.__fabricante = fabricante\n",
        "    self.__modelo = modelo\n",
        "    self.__n_registro = None\n",
        "    #colocar 2 underscores '__' é usado no que chamamos de encpsulamento\n",
        "    #isso impede que o atributo seja acessivel diretamente dora da classe\n",
        "\n",
        "    #por isso precisamos de um método chamdo 'Getter', que é uma função\n",
        "\n",
        "  def get_fabr_modelo(self):\n",
        "    print(f'Modelo: {self.__modelo}, Fabricante: {self.__fabricante}')\n",
        "    return\n",
        "\n",
        "    #outro metodo para o n_registro o Setter\n",
        "  def set_n_registro(self, registro):\n",
        "    self.__n_registro = registro\n",
        "    #para acessar o valor mais um get\n",
        "  def get_n_registro(self):\n",
        "    return self.__n_registro\n",
        "\n",
        "#herança class NomeClasse(classeHerdada)\n",
        "\n",
        "class Carro(Veiculo):\n",
        "  #método init herdado\n",
        "  def movimentar(self):\n",
        "    print(f'sou um carro e me desloco tambem!')\n",
        "\n",
        "class Motocicleta(Veiculo):\n",
        "  def movimentar(self):\n",
        "    print(f'sou uma moto e me desloco tambem!')\n",
        "\n",
        "\n",
        "if __name__ == '__main__':\n",
        "\n",
        "  meu_veiculo = Veiculo('GM','Onix')\n",
        "  meu_veiculo.movimentar()\n",
        "  print(meu_veiculo.get_fabr_modelo())\n",
        "  meu_veiculo.set_n_registro(123)\n",
        "  print(f'o numero do registro é: {meu_veiculo.get_n_registro()}')\n",
        "\n",
        "\n",
        "  # ###herança1\n",
        "  # meu_carro =  Carro('FIAT', 'Uno')\n",
        "  # meu_carro.movimentar()\n",
        "  # print(meu_carro.get_fabr_modelo())\n",
        "\n",
        "  # ###herança2\n",
        "  # seu_carro = Carro('audi', 'a4')\n",
        "  # seu_carro.movimentar()\n",
        "  # print(seu_carro.get_fabr_modelo())\n",
        "\n",
        "  ###herança3\n",
        "\n",
        "  # moto = Motocicleta('Honda', 'CBR')\n",
        "  # moto.movimentar()\n",
        "  # print(moto.get_fabr_modelo())"
      ]
    }
  ]
}