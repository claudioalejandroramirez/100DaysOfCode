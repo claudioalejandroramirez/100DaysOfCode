{
  "nbformat": 4,
  "nbformat_minor": 0,
  "metadata": {
    "colab": {
      "provenance": [],
      "authorship_tag": "ABX9TyMs7xWCA6O9MqzwwxnIO7r/",
      "include_colab_link": true
    },
    "kernelspec": {
      "name": "python3",
      "display_name": "Python 3"
    },
    "language_info": {
      "name": "python"
    }
  },
  "cells": [
    {
      "cell_type": "markdown",
      "metadata": {
        "id": "view-in-github",
        "colab_type": "text"
      },
      "source": [
        "<a href=\"https://colab.research.google.com/github/claudioalejandroramirez/estudos-aleatorios/blob/main/poo.ipynb\" target=\"_parent\"><img src=\"https://colab.research.google.com/assets/colab-badge.svg\" alt=\"Open In Colab\"/></a>"
      ]
    },
    {
      "cell_type": "code",
      "execution_count": 4,
      "metadata": {
        "colab": {
          "base_uri": "https://localhost:8080/"
        },
        "id": "H_EZo7izWTYk",
        "outputId": "f2cf6587-6c40-411f-d519-130b4e6fd33e"
      },
      "outputs": [
        {
          "output_type": "stream",
          "name": "stdout",
          "text": [
            "sou um veículo e me desloco!\n",
            "Modelo: Onix, Fabricante: GM\n",
            "None\n"
          ]
        }
      ],
      "source": [
        "##orientação de objeto em python\n",
        "\n",
        "class Veiculo:\n",
        "  #a classe tem que ter, atributos e metodos\n",
        "  #atributos são similares as variáveis\n",
        "  #métodos são similares às funções/ação\n",
        "  def movimentar(self):\n",
        "    #utiliza-se o 'self' para se referir exclusivamente a esse objeto\n",
        "    print(f'sou um veículo e me desloco!')\n",
        "\n",
        "  def __init__(self, fabricante, modelo):\n",
        "    self.__fabricante = fabricante\n",
        "    self.__modelo = modelo\n",
        "    self.__n_registro = None\n",
        "    #colocar 2 underscores '__' é usado no que chamamos de encpsulamento\n",
        "    #isso impede que o atributo seja acessivel diretamente dora da classe\n",
        "\n",
        "    #por isso precisamos de um método chamdo 'Getter', que é uma função\n",
        "\n",
        "  def get_fabr_modelo(self):\n",
        "    print(f'Modelo: {self.__modelo}, Fabricante: {self.__fabricante}')\n",
        "\n",
        "\n",
        "\n",
        "if __name__ == '__main__':\n",
        "  meu_veiculo = Veiculo('GM','Onix')\n",
        "  meu_veiculo.movimentar()\n",
        "  print(meu_veiculo.get_fabr_modelo())"
      ]
    }
  ]
}