{
  "nbformat": 4,
  "nbformat_minor": 0,
  "metadata": {
    "colab": {
      "provenance": [],
      "authorship_tag": "ABX9TyOehIPO/zRsxSQc2ZG/XD0P",
      "include_colab_link": true
    },
    "kernelspec": {
      "name": "python3",
      "display_name": "Python 3"
    },
    "language_info": {
      "name": "python"
    }
  },
  "cells": [
    {
      "cell_type": "markdown",
      "metadata": {
        "id": "view-in-github",
        "colab_type": "text"
      },
      "source": [
        "<a href=\"https://colab.research.google.com/github/claudioalejandroramirez/estudos-aleatorios/blob/main/escopo.ipynb\" target=\"_parent\"><img src=\"https://colab.research.google.com/assets/colab-badge.svg\" alt=\"Open In Colab\"/></a>"
      ]
    },
    {
      "cell_type": "code",
      "execution_count": 8,
      "metadata": {
        "colab": {
          "base_uri": "https://localhost:8080/"
        },
        "id": "-1UTgL2EdMi_",
        "outputId": "25108f64-c8eb-426e-adf8-9c4d93f29909"
      },
      "outputs": [
        {
          "output_type": "stream",
          "name": "stdout",
          "text": [
            "executar a função: escreve_texto()\n",
            "variavel global: bancos de dados com SQL\n",
            "variavel local: claudio\n",
            "variavel global bancos de dados com SQL\n"
          ]
        }
      ],
      "source": [
        "#escopo de variável local e global\n",
        "\n",
        "var_global = 'curso de python'\n",
        "\n",
        "def escreve_texto():\n",
        "  #variavel com o mesmo nome mas só funciona no local\n",
        "  #var_global = 'bancos de dados com SQL'\n",
        "\n",
        "  #colocando esse 'global' na fente se indica que essa var pode alterar o\n",
        "  #valor da variavel fora da função\n",
        "  #precisa declarar antes a variavel global e depois atribuir valor\n",
        "  global var_global\n",
        "  var_global = 'bancos de dados com SQL'\n",
        "  var_local = 'claudio'\n",
        "  print(f'variavel global: {var_global}')\n",
        "  print(f'variavel local: {var_local}')\n",
        "\n",
        "if __name__ == '__main__':\n",
        "    print(f'executar a função: escreve_texto()')\n",
        "    escreve_texto()\n",
        "\n",
        "    print(f'variavel global {var_global}')\n",
        "#essa de baixo da erro pq é local, ou seja, apenas executavel dentro da func\n",
        "#print(f'variavel local {var_local}')\n"
      ]
    }
  ]
}