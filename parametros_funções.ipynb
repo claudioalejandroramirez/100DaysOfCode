{
  "nbformat": 4,
  "nbformat_minor": 0,
  "metadata": {
    "colab": {
      "provenance": [],
      "authorship_tag": "ABX9TyPVi+EH93/RpARW6Y09M5/x",
      "include_colab_link": true
    },
    "kernelspec": {
      "name": "python3",
      "display_name": "Python 3"
    },
    "language_info": {
      "name": "python"
    }
  },
  "cells": [
    {
      "cell_type": "markdown",
      "metadata": {
        "id": "view-in-github",
        "colab_type": "text"
      },
      "source": [
        "<a href=\"https://colab.research.google.com/github/claudioalejandroramirez/estudos-aleatorios/blob/main/parametros_fun%C3%A7%C3%B5es.ipynb\" target=\"_parent\"><img src=\"https://colab.research.google.com/assets/colab-badge.svg\" alt=\"Open In Colab\"/></a>"
      ]
    },
    {
      "cell_type": "code",
      "execution_count": 10,
      "metadata": {
        "colab": {
          "base_uri": "https://localhost:8080/"
        },
        "id": "sVgIwkzpnnoK",
        "outputId": "0b3ad9e8-e472-4d74-e1ce-948e4a38fb93"
      },
      "outputs": [
        {
          "output_type": "stream",
          "name": "stdout",
          "text": [
            "30\n"
          ]
        }
      ],
      "source": [
        "# def quadrado(valor):\n",
        "#   quadrados = []\n",
        "#   for i in valor:\n",
        "#     quadrados.append(i ** 2)\n",
        "#   return quadrados\n",
        "\n",
        "# def contar(num = 11, caractere='+'):\n",
        "#   #vai acrescentar de 1 em 1 o valore de carecter até o limite da variável num\n",
        "#   for i in range(1, num):\n",
        "#     print(caractere)\n",
        "\n",
        "x = 5\n",
        "y = 10\n",
        "z = 15\n",
        "\n",
        "def soma_mult(a, b, c = 0):\n",
        "  if c == 0:\n",
        "    return a * b\n",
        "  else:\n",
        "    return a + b + c\n",
        "\n",
        "if __name__ == '__main__':\n",
        "\n",
        "\n",
        "#   #aqui especificamente o nome da variavel dentro do argumento precisa ser\n",
        "#   #o mesmo que esta declarada na função 'caractere'\n",
        "#   #obs:não é necessario passar novamente o 'nome' dos parametros, mas pode\n",
        "#   #colocar os novos valores na ordem que foram declarados na função\n",
        "\n",
        "#  contar(caractere='&')\n",
        "#  # contar(6,'&')\n",
        "\n",
        "  res = soma_mult(x,y,z)\n",
        "print(res)\n",
        "\n",
        "#vamos ver orientação ao objeto, mas isso se chama polimorfismo\n"
      ]
    }
  ]
}