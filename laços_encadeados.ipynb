{
  "nbformat": 4,
  "nbformat_minor": 0,
  "metadata": {
    "colab": {
      "provenance": [],
      "authorship_tag": "ABX9TyN9G5lm38qORRwhdXplV4AF",
      "include_colab_link": true
    },
    "kernelspec": {
      "name": "python3",
      "display_name": "Python 3"
    },
    "language_info": {
      "name": "python"
    }
  },
  "cells": [
    {
      "cell_type": "markdown",
      "metadata": {
        "id": "view-in-github",
        "colab_type": "text"
      },
      "source": [
        "<a href=\"https://colab.research.google.com/github/claudioalejandroramirez/estudos-aleatorios/blob/main/la%C3%A7os_encadeados.ipynb\" target=\"_parent\"><img src=\"https://colab.research.google.com/assets/colab-badge.svg\" alt=\"Open In Colab\"/></a>"
      ]
    },
    {
      "cell_type": "code",
      "execution_count": null,
      "metadata": {
        "colab": {
          "base_uri": "https://localhost:8080/"
        },
        "id": "xKCmP2AXtEH1",
        "outputId": "62fe1652-c288-49c0-a0e2-6fac0058a3d5"
      },
      "outputs": [
        {
          "output_type": "stream",
          "name": "stdout",
          "text": [
            "\n",
            "conjunto: 1\n",
            "valor 2\n",
            "valor 58\n",
            "valor 15\n",
            "valor 31\n",
            "valor 22\n",
            "\n",
            "conjunto: 2\n",
            "valor 74\n",
            "valor 13\n",
            "valor 86\n",
            "valor 70\n",
            "valor 3\n",
            "\n",
            "conjunto: 3\n",
            "valor 31\n",
            "valor 34\n",
            "valor 27\n",
            "valor 32\n",
            "valor 95\n",
            "\n",
            "conjunto: 4\n",
            "valor 35\n",
            "valor 49\n",
            "valor 72\n",
            "valor 8\n",
            "valor 31\n",
            "\n",
            "conjunto: 5\n",
            "valor 69\n",
            "valor 37\n",
            "valor 43\n",
            "valor 39\n",
            "valor 73\n",
            "fim dos laços\n"
          ]
        }
      ],
      "source": [
        "# for cont_ex in range(1,6):\n",
        "#   print(f'\\nRodada: {cont_ex}')\n",
        "#   for cont_int in range(5,0,-1):\n",
        "#     print(f'valor {cont_int}')\n",
        "# print('fim dos laços')\n",
        "\n",
        "import random\n",
        "\n",
        "for A in range(1,6):\n",
        "  print(f'\\nconjunto: {A}')\n",
        "  for B in range(5):\n",
        "    numero = random.randint(1,100)\n",
        "    print(f'valor {numero}')\n",
        "print('fim dos laços')"
      ]
    }
  ]
}