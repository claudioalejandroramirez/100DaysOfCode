{
  "nbformat": 4,
  "nbformat_minor": 0,
  "metadata": {
    "colab": {
      "provenance": [],
      "authorship_tag": "ABX9TyPD6l5spjCeK8b1vop2dZcy",
      "include_colab_link": true
    },
    "kernelspec": {
      "name": "python3",
      "display_name": "Python 3"
    },
    "language_info": {
      "name": "python"
    }
  },
  "cells": [
    {
      "cell_type": "markdown",
      "metadata": {
        "id": "view-in-github",
        "colab_type": "text"
      },
      "source": [
        "<a href=\"https://colab.research.google.com/github/claudioalejandroramirez/estudos-aleatorios/blob/main/exce%C3%A7%C3%B5es.ipynb\" target=\"_parent\"><img src=\"https://colab.research.google.com/assets/colab-badge.svg\" alt=\"Open In Colab\"/></a>"
      ]
    },
    {
      "cell_type": "code",
      "execution_count": 7,
      "metadata": {
        "colab": {
          "base_uri": "https://localhost:8080/"
        },
        "id": "d56j6r0umNyw",
        "outputId": "516dcfdd-a25f-4ed9-f0c1-2409b29509d9"
      },
      "outputs": [
        {
          "output_type": "stream",
          "name": "stdout",
          "text": [
            "digite um numero: 1\n",
            "digite outro numero: 1\n",
            "o resultado é 1.0\n",
            "\n",
            "fim\n"
          ]
        }
      ],
      "source": [
        "#exceção é um objeto que representa um erro que ocorreu no deccorer do programa\n",
        "#Blocos try ... except\n",
        "\n",
        "# n1 = int(input('digite um numero: '))\n",
        "# n2 = int(input('digite outro numero: '))\n",
        "# #o programa traz uma msg mais amigavel e não trava o programa\n",
        "# try:\n",
        "#   r = round(n1/n2, 2)\n",
        "# #posso colocar multiplas exceções, mas o mais certo é separar individualmente\n",
        "# except ZeroDivisionError:\n",
        "#   print('não é possivel dividir um numero por zero')\n",
        "# #else não é obrigatório\n",
        "# else:\n",
        "#   print(f'o resultado é {r}')\n",
        "\n",
        "def div(k, j):\n",
        "  return round(k / j, 2)\n",
        "\n",
        "if __name__ == '__main__':\n",
        "\n",
        "  while True:\n",
        "    try:\n",
        "      n1 = int(input('digite um numero: '))\n",
        "      n2 = int(input('digite outro numero: '))\n",
        "      break\n",
        "    except ValueError:\n",
        "      print('digite apenas numeros')\n",
        "  try:\n",
        "   r = round(n1/n2, 2)\n",
        "  except ZeroDivisionError:\n",
        "    print('não é possivel dividir um numero por zero')\n",
        "  except:\n",
        "    print('algo deu errado')\n",
        "  else:\n",
        "    print(f'o resultado é {r}')\n",
        "  finally:\n",
        "    print(f'\\nfim')"
      ]
    }
  ]
}