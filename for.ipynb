{
  "nbformat": 4,
  "nbformat_minor": 0,
  "metadata": {
    "colab": {
      "provenance": [],
      "authorship_tag": "ABX9TyOgLyBOoB6e53sDHYw3UATH",
      "include_colab_link": true
    },
    "kernelspec": {
      "name": "python3",
      "display_name": "Python 3"
    },
    "language_info": {
      "name": "python"
    }
  },
  "cells": [
    {
      "cell_type": "markdown",
      "metadata": {
        "id": "view-in-github",
        "colab_type": "text"
      },
      "source": [
        "<a href=\"https://colab.research.google.com/github/claudioalejandroramirez/estudos-aleatorios/blob/main/for.ipynb\" target=\"_parent\"><img src=\"https://colab.research.google.com/assets/colab-badge.svg\" alt=\"Open In Colab\"/></a>"
      ]
    },
    {
      "cell_type": "code",
      "execution_count": null,
      "metadata": {
        "id": "gUlblM1fRWZ7",
        "colab": {
          "base_uri": "https://localhost:8080/"
        },
        "outputId": "6ee9f597-df40-49c5-9ff0-79ef0549de21"
      },
      "outputs": [
        {
          "output_type": "stream",
          "name": "stdout",
          "text": [
            "rubi\n",
            "esmeralda\n",
            "safira\n",
            "diamante\n",
            "turmalina\n"
          ]
        }
      ],
      "source": [
        "# lista = [2,6,9,4,0,12,3,7]\n",
        "\n",
        "# for item in lista:\n",
        "#   #essa sintaxe acima pode ser endendida assim: ''\n",
        "#   #para cada item dentro da lista''\n",
        "#   #siga as instruções abaixo\n",
        "#   print(item)\n",
        "\n",
        "# palavra = 'boson'\n",
        "\n",
        "# for letra in palavra:\n",
        "#   print(letra)\n",
        "\n",
        "# for numero in range(1,11):\n",
        "#   print(numero)\n",
        "\n",
        "# nome = input('Digite seu nome: ')\n",
        "\n",
        "# for x in range(10):\n",
        "#   print(f'{x+1} {nome}')\n",
        "\n",
        "  #range(valor_inicial,valor_final,incremento)\n",
        "\n",
        "# for x in (2,20,2):\n",
        "#   print(x)\n",
        "\n",
        "pedras = ('rubi','esmeralda','quartzo', 'safira', 'diamante', 'turmalina')\n",
        "\n",
        "for pedra in pedras:\n",
        "  if pedra == 'quartzo':\n",
        "    continue\n",
        "  print(pedra)"
      ]
    }
  ]
}