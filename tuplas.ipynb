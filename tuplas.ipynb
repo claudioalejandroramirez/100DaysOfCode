{
  "nbformat": 4,
  "nbformat_minor": 0,
  "metadata": {
    "colab": {
      "provenance": [],
      "authorship_tag": "ABX9TyNIwRvv+nsJectZZeBAPGiL",
      "include_colab_link": true
    },
    "kernelspec": {
      "name": "python3",
      "display_name": "Python 3"
    },
    "language_info": {
      "name": "python"
    }
  },
  "cells": [
    {
      "cell_type": "markdown",
      "metadata": {
        "id": "view-in-github",
        "colab_type": "text"
      },
      "source": [
        "<a href=\"https://colab.research.google.com/github/claudioalejandroramirez/estudos-aleatorios/blob/main/tuplas.ipynb\" target=\"_parent\"><img src=\"https://colab.research.google.com/assets/colab-badge.svg\" alt=\"Open In Colab\"/></a>"
      ]
    },
    {
      "cell_type": "code",
      "execution_count": 3,
      "metadata": {
        "colab": {
          "base_uri": "https://localhost:8080/"
        },
        "id": "oPBWjThf7157",
        "outputId": "37a16e66-3316-4eb9-fe4e-b96911fb7ec5"
      },
      "outputs": [
        {
          "output_type": "stream",
          "name": "stdout",
          "text": [
            "8\n",
            "<class 'tuple'>\n"
          ]
        }
      ],
      "source": [
        " #tuplas - ver listas *** tuplas são imutaveis, mas permitem slices\n",
        "\n",
        "t1 =(5,5,5,5,5,5,5,5)\n",
        "print(t1.count(5))\n",
        "\n",
        "# # operações não disponiveis em tuplas:\n",
        "# uso do metodo sort()\n",
        "# .append\n",
        "# .reverse\n",
        "# .pop\n",
        "\n",
        "#a pesar de não podermos alterar a tupla, podemos inserir a função list\n",
        "#na tupla e operar o resultado como uma lista\n",
        "\n",
        "# grupo_17 = list(t1)\n",
        "# grupo_17[0] = 'H'\n",
        "# print(grupo_17)\n",
        "\n",
        "# posso criar uma tupla a partir de uma lista usando tuple\n",
        "grupo1 = [1,1,1,1,1,1,1,1,1,1,1]\n",
        "grupo2 = tuple(grupo1)\n",
        "print(type(grupo2))"
      ]
    }
  ]
}