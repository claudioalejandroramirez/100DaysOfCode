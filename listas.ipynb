{
  "nbformat": 4,
  "nbformat_minor": 0,
  "metadata": {
    "colab": {
      "provenance": [],
      "authorship_tag": "ABX9TyM9VR2XB2d2FChyjHvEyLFi",
      "include_colab_link": true
    },
    "kernelspec": {
      "name": "python3",
      "display_name": "Python 3"
    },
    "language_info": {
      "name": "python"
    }
  },
  "cells": [
    {
      "cell_type": "markdown",
      "metadata": {
        "id": "view-in-github",
        "colab_type": "text"
      },
      "source": [
        "<a href=\"https://colab.research.google.com/github/claudioalejandroramirez/100DaysOfCode/blob/main/listas.ipynb\" target=\"_parent\"><img src=\"https://colab.research.google.com/assets/colab-badge.svg\" alt=\"Open In Colab\"/></a>"
      ]
    },
    {
      "cell_type": "code",
      "execution_count": null,
      "metadata": {
        "colab": {
          "base_uri": "https://localhost:8080/"
        },
        "id": "1SO7chERoqCS",
        "outputId": "e84c7b86-c024-4c3d-9249-9b1f63434005"
      },
      "outputs": [
        {
          "output_type": "stream",
          "name": "stdout",
          "text": [
            "digite suas 5 bebidas favoritas.\n",
            "caipirinha\n",
            "vodka\n",
            "suco\n",
            "refri\n",
            "vitamina\n",
            "Sua lista de bebidas favoritas é: ['caipirinha', 'refri', 'suco', 'vitamina', 'vodka']\n"
          ]
        }
      ],
      "source": [
        "# # #lista = sequencia de valores armazenados na memoria e suporta varios tipos de objetos\n",
        "# # # nome-lista = [valores]\n",
        "\n",
        "# # notas = [10, 5, 8, 9]\n",
        "# # #       [0,1,2,3]\n",
        "# # print(notas)\n",
        "\n",
        "# n1 = [0,2,7,4,3]\n",
        "# n2 = [10, 5, 8, 9]\n",
        "# #aqui não se soma os valores mas juntam-se os elementos de 2 listas distintas\n",
        "# valores = n1 + n2\n",
        "# print(valores)\n",
        "# print(type(valores))\n",
        "# #chamar apenas um valore da lista pelo numero do indice\n",
        "# # para acessar o ultimo valor da lista indicamos o indice [-1], penultimo[-2]\n",
        "# #para alterar valor: valor[0] = 9\n",
        "# #para imprimir a partir da posição 0 2 valores print(valores[0:2])\n",
        "# #[onde inicia:até aonde vai] (slice)\n",
        "# #contar os elementos da lista print(len(lista))\n",
        "# #sorted ordenar do menor para o maior ou reverse=True\n",
        "# #print(len(valores))\n",
        "\n",
        "# # print(len(valores))\n",
        "# # print(sum(valores))\n",
        "# # print(min(valores))\n",
        "# # print(max(valores))\n",
        "# # print(sorted(valores, reverse=True))\n",
        "\n",
        "\n",
        "# valores.append(13)\n",
        "# print(len(valores))\n",
        "# print(sum(valores))\n",
        "# print(min(valores))\n",
        "# print(max(valores))\n",
        "# print(sorted(valores, reverse=True))\n",
        "# valores.pop()\n",
        "# print(sorted(valores))\n",
        "# #o insert coloca um novo valor sem substitur, empurrando o restante para frente\n",
        "# valores.insert(3,21)\n",
        "# print(valores)\n",
        "# #é uma pergunta ha o elamento 12 nos valores?\n",
        "# print(12 in valores)\n",
        "\n",
        "# planetas = ['Mercurio', 'Venus', 'Terra', 'Marte', 'Júpiter', 'Saturno', 'Urano', 'Netuno']\n",
        "# for planeta in planetas:\n",
        "#   print(planeta)\n",
        "\n",
        "#exercicio\n",
        "\n",
        "print('digite suas 5 bebidas favoritas.')\n",
        "bebidas = []\n",
        "for bebida in range(5):\n",
        "  bebidas.append(input())\n",
        "\n",
        "print(f'Sua lista de bebidas favoritas é: {sorted(bebidas)}')"
      ]
    },
    {
      "cell_type": "code",
      "source": [],
      "metadata": {
        "id": "XJx4WEKn4ubI"
      },
      "execution_count": null,
      "outputs": []
    }
  ]
}