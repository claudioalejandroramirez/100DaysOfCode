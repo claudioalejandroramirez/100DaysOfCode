{
  "nbformat": 4,
  "nbformat_minor": 0,
  "metadata": {
    "colab": {
      "provenance": [],
      "authorship_tag": "ABX9TyN2yjWzg1elkVMnroJLjH1e",
      "include_colab_link": true
    },
    "kernelspec": {
      "name": "python3",
      "display_name": "Python 3"
    },
    "language_info": {
      "name": "python"
    }
  },
  "cells": [
    {
      "cell_type": "markdown",
      "metadata": {
        "id": "view-in-github",
        "colab_type": "text"
      },
      "source": [
        "<a href=\"https://colab.research.google.com/github/claudioalejandroramirez/estudos-aleatorios/blob/main/sets.ipynb\" target=\"_parent\"><img src=\"https://colab.research.google.com/assets/colab-badge.svg\" alt=\"Open In Colab\"/></a>"
      ]
    },
    {
      "cell_type": "code",
      "execution_count": 24,
      "metadata": {
        "colab": {
          "base_uri": "https://localhost:8080/"
        },
        "id": "0WJGw0CI6UYs",
        "outputId": "f2aa93b9-d78e-4b01-8304-497f1cc68038"
      },
      "outputs": [
        {
          "output_type": "stream",
          "name": "stdout",
          "text": [
            "{'Plutão', 'Vênus', 'lua', 'sol'}\n"
          ]
        }
      ],
      "source": [
        "'''sets: conjuntos não ordenados de valores unicos\n",
        "eles armazenam itens não duplicados e suportam operações\n",
        "matemáticas em conjuntos, união, intersecção'''\n",
        "\n",
        "# planeta_anao = {'Plutão','Ceres', 'Haumea', 'Makemake'}\n",
        "# print(len(planeta_anao))\n",
        "# print('Ceres' in planeta_anao)\n",
        "\n",
        "# for astro in planeta_anao:\n",
        "#   print(astro.upper(), end =' ')\n",
        "\n",
        "# astros = ['lua', 'sol', 'sirius', 'marte', 'lua']\n",
        "# print(astros, end=' ')\n",
        "# astros_set = set(astros)\n",
        "# print(astros_set)\n",
        "\n",
        "astros1 = {'lua', 'sol', 'sirius', 'marte', 'lua'}\n",
        "astros2 = {'lua', 'sol', 'sirius', 'marte', 'lua', 'Cometa de Halley'}\n",
        "\n",
        "astros1.add('Plutão')\n",
        "astros1.add('Vênus')\n",
        "#astros1.remove('Io')\n",
        "astros1.discard('Io')\n",
        "astros1.remove('sirius')\n",
        "astros1.pop()\n",
        "\n",
        "print(astros1)\n",
        "\n",
        "# print(astros1 == astros2)\n",
        "\n",
        "# print(astros1.intersection(astros2))\n",
        "# print(astros1 & astros2)\n",
        "# #iguais\n",
        "# print(astros1.union(astros2))\n",
        "# print(astros1 | astros2)\n",
        "# #iguais\n",
        "# print(astros1.symmetric_difference(astros2))\n",
        "# print(astros1 ^ astros2)\n"
      ]
    }
  ]
}