{
  "nbformat": 4,
  "nbformat_minor": 0,
  "metadata": {
    "colab": {
      "provenance": [],
      "authorship_tag": "ABX9TyP1qCddnPQvn6KlZstG3428",
      "include_colab_link": true
    },
    "kernelspec": {
      "name": "python3",
      "display_name": "Python 3"
    },
    "language_info": {
      "name": "python"
    }
  },
  "cells": [
    {
      "cell_type": "markdown",
      "metadata": {
        "id": "view-in-github",
        "colab_type": "text"
      },
      "source": [
        "<a href=\"https://colab.research.google.com/github/claudioalejandroramirez/estudos-aleatorios/blob/main/fun%C3%A7%C3%B5es_especiais.ipynb\" target=\"_parent\"><img src=\"https://colab.research.google.com/assets/colab-badge.svg\" alt=\"Open In Colab\"/></a>"
      ]
    },
    {
      "cell_type": "code",
      "execution_count": 12,
      "metadata": {
        "colab": {
          "base_uri": "https://localhost:8080/"
        },
        "id": "PRfEuQ2aJo-G",
        "outputId": "bca0bea8-c466-4656-f4a8-a45938f7e072"
      },
      "outputs": [
        {
          "output_type": "stream",
          "name": "stdout",
          "text": [
            "1172\n"
          ]
        }
      ],
      "source": [
        "#lambda(anônimas) / ou seja/ sem nome\n",
        "#sintaxe:\n",
        "#lambda argumentos: expressão\n",
        "\n",
        "###quadrado de uma sequencia de numeros\n",
        "\n",
        "# quadrado = lambda x: x**2\n",
        "# for i in range(1,11):\n",
        "#     print(quadrado(i))\n",
        "\n",
        "###verificar se um numero é par (é uma variável que se comporta com uma função)\n",
        "# par = lambda x: x%2==0\n",
        "# print(par(10))\n",
        "\n",
        "###converter fahenheit para celcius\n",
        "# f_c = lambda f: (f-32)*(5/9)\n",
        "# print(f_c(100))\n",
        "\n",
        "#função map() / função que aplica funções / geralmente usada com lambda\n",
        "#sintaxe\n",
        "#map(função, interável)\n",
        "\n",
        "###dobro\n",
        "# num = [1,2,3,4,5,6,7,8]\n",
        "# dobro = list(map(lambda x: x*2, num))\n",
        "# print(dobro)\n",
        "\n",
        "\n",
        "###maiuscula\n",
        "# palavras = ['python', 'é', 'uma', 'linguagem', 'de', 'programação']\n",
        "# maiusculas = list(map(str.upper, palavras))\n",
        "# print(maiusculas)\n",
        "\n",
        "#função filter() / filtra elementos de uma sequencia/\n",
        "#Sintaxe\n",
        "#filter(função, sequencia)\n",
        "\n",
        "###par\n",
        "# def numeros_pares(n):\n",
        "#     return n%2==0\n",
        "\n",
        "# numeros = [1,2,3,4,5,6,7,8,9,10]\n",
        "# num_par = list(filter(numeros_pares, numeros))\n",
        "# print(num_par)\n",
        "\n",
        "###impar\n",
        "# def numeros_impares(n):\n",
        "#     return n%2 != 0\n",
        "# numeros = [1,2,3,4,5,6,7,8,9,10]\n",
        "# num_impar = list(filter(numeros_impares, numeros))\n",
        "# print(num_impar)\n",
        "\n",
        "#ou\n",
        "\n",
        "# numeros = [1,2,3,4,5,6,7,8,9,10]\n",
        "# num_impar = list(filter(lambda x: x%2 !=0, numeros))\n",
        "# print(num_impar)\n",
        "\n",
        "#função reduce() / precisa ser importada/ ela realiza funções cumulativas e\n",
        "#retorna um unico valor\n",
        "#sintaxe\n",
        "#reduce(função, sequencia, valore_inicial)\n",
        "\n",
        "from functools import reduce\n",
        "\n",
        "# def mult (x,y):\n",
        "#     return x * y\n",
        "\n",
        "# numeros = [1,2,3,4,5,6,7,8,9]\n",
        "\n",
        "# total = reduce(mult, numeros)\n",
        "# print(total)\n",
        "\n",
        "# #ou\n",
        "\n",
        "# total = reduce(lambda x,y: x*y, numeros)\n",
        "# print(total)\n",
        "\n",
        "###soma cumulativa do quadrado dos elementos\n",
        "\n",
        "numeros = [1,2,3,4]\n",
        "total = reduce(lambda x,y: x**2+y**2, numeros)\n",
        "print(total)"
      ]
    }
  ]
}