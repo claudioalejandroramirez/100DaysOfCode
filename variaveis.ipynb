{
  "nbformat": 4,
  "nbformat_minor": 0,
  "metadata": {
    "colab": {
      "provenance": [],
      "authorship_tag": "ABX9TyOLRnc94GZlFlAmRqpRMuaN",
      "include_colab_link": true
    },
    "kernelspec": {
      "name": "python3",
      "display_name": "Python 3"
    },
    "language_info": {
      "name": "python"
    }
  },
  "cells": [
    {
      "cell_type": "markdown",
      "metadata": {
        "id": "view-in-github",
        "colab_type": "text"
      },
      "source": [
        "<a href=\"https://colab.research.google.com/github/claudioalejandroramirez/estudos-aleatorios/blob/main/variaveis.ipynb\" target=\"_parent\"><img src=\"https://colab.research.google.com/assets/colab-badge.svg\" alt=\"Open In Colab\"/></a>"
      ]
    },
    {
      "cell_type": "code",
      "execution_count": null,
      "metadata": {
        "colab": {
          "base_uri": "https://localhost:8080/"
        },
        "id": "RCVQsf06a4sJ",
        "outputId": "718758e4-4bb2-42d8-8060-07792f2d18cf"
      },
      "outputs": [
        {
          "output_type": "stream",
          "name": "stdout",
          "text": [
            " Tem dinheiro? True\n"
          ]
        }
      ],
      "source": [
        "# idade = 25\n",
        "# altura =1.75\n",
        "\n",
        "# resultado = (idade >= 18) and (altura >= 1.70)\n",
        "# msg = 'pode participar do evento ' +str(resultado)\n",
        "\n",
        "# print (msg)\n",
        "\n",
        "# #programa alarme\n",
        "# porta = 'a'\n",
        "# janela = 'f'\n",
        "\n",
        "# alarme = (porta == 'a') or (janela == 'a')\n",
        "\n",
        "# msg = 'Alarme disparado ' +str(alarme)\n",
        "# print(msg)\n",
        "\n",
        "tem_dinheiro = False\n",
        "tem_dinheiro = not tem_dinheiro\n",
        "\n",
        "msg = ' Tem dinheiro? ' +str(tem_dinheiro)\n",
        "print(msg)"
      ]
    }
  ]
}