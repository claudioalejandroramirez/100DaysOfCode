{
  "nbformat": 4,
  "nbformat_minor": 0,
  "metadata": {
    "colab": {
      "provenance": [],
      "authorship_tag": "ABX9TyMdSgnb/9zbCsh0nwbaCzp4",
      "include_colab_link": true
    },
    "kernelspec": {
      "name": "python3",
      "display_name": "Python 3"
    },
    "language_info": {
      "name": "python"
    }
  },
  "cells": [
    {
      "cell_type": "markdown",
      "metadata": {
        "id": "view-in-github",
        "colab_type": "text"
      },
      "source": [
        "<a href=\"https://colab.research.google.com/github/claudioalejandroramirez/estudos-aleatorios/blob/main/fun%C3%A7%C3%B5es.ipynb\" target=\"_parent\"><img src=\"https://colab.research.google.com/assets/colab-badge.svg\" alt=\"Open In Colab\"/></a>"
      ]
    },
    {
      "cell_type": "code",
      "execution_count": null,
      "metadata": {
        "colab": {
          "base_uri": "https://localhost:8080/"
        },
        "id": "s72N-MShOX5h",
        "outputId": "11b1cbee-786a-4a68-aaf0-8f3a9a583261"
      },
      "outputs": [
        {
          "output_type": "stream",
          "name": "stdout",
          "text": [
            "1\n",
            "4\n",
            "9\n",
            "16\n",
            "25\n"
          ]
        }
      ],
      "source": [
        "'''funções\n",
        "modularização, reuso de código, legibilidade\n",
        "2 tipos - builtin, customizadas\n",
        "\n",
        "como criar\n",
        "def <nome_funçção> ([argumentos]):\n",
        "    <instruções>\n",
        "\n",
        "'''\n",
        "\n",
        "# def mensagem():\n",
        "#   print('Olá, mundo!')\n",
        "#   print('curso python')\n",
        "\n",
        "# mensagem()\n",
        "\n",
        "#função com argumentos\n",
        "\n",
        "# def soma (a, b):\n",
        "#   print(a + b)\n",
        "\n",
        "# soma(2,3)\n",
        "\n",
        "# def mult(x,y):\n",
        "#   return x * y\n",
        "\n",
        "# a = 2\n",
        "# b = 3\n",
        "# c = mult(a,b)\n",
        "# print(c)\n",
        "# print(f'O resultado da multiplicação de {a} e {b} é {c}')\n",
        "\n",
        "# def div(x,y):\n",
        "#   if y != 0:\n",
        "#     return x / y\n",
        "#   else:\n",
        "#     return 'Não é possível dividir por zero'\n",
        "\n",
        "# if __name__ == '__main__':\n",
        "#     a = int(input('Digite um número: '))\n",
        "#     b = int(input('Digite outro número: '))\n",
        "\n",
        "#     r = div(a,b)\n",
        "#     print(f'O resultado da divisão de {a} e {b} é {r}')\n",
        "\n",
        "def quadrado(valor):\n",
        "  quadrados = []\n",
        "  for i in valor:\n",
        "    quadrados.append(i ** 2)\n",
        "  return quadrados\n",
        "\n",
        "if __name__ == '__main__':\n",
        "  valores = [1,2,3,4,5]\n",
        "  resultados = quadrado(valores)\n",
        "  for g in resultados:\n",
        "    print(g)\n"
      ]
    }
  ]
}