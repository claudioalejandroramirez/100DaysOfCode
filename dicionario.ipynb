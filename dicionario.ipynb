{
  "nbformat": 4,
  "nbformat_minor": 0,
  "metadata": {
    "colab": {
      "provenance": [],
      "authorship_tag": "ABX9TyM6NDjQ1UIgoBldiZ7Zdht1",
      "include_colab_link": true
    },
    "kernelspec": {
      "name": "python3",
      "display_name": "Python 3"
    },
    "language_info": {
      "name": "python"
    }
  },
  "cells": [
    {
      "cell_type": "markdown",
      "metadata": {
        "id": "view-in-github",
        "colab_type": "text"
      },
      "source": [
        "<a href=\"https://colab.research.google.com/github/claudioalejandroramirez/estudos-aleatorios/blob/main/dicionario.ipynb\" target=\"_parent\"><img src=\"https://colab.research.google.com/assets/colab-badge.svg\" alt=\"Open In Colab\"/></a>"
      ]
    },
    {
      "cell_type": "code",
      "execution_count": 18,
      "metadata": {
        "colab": {
          "base_uri": "https://localhost:8080/"
        },
        "id": "MNao_2mmWDnK",
        "outputId": "fa275e33-06a7-4892-c22a-6127dec6949f"
      },
      "outputs": [
        {
          "output_type": "stream",
          "name": "stdout",
          "text": [
            "Elemento:  Lítio\n",
            "densidade:  0.534\n",
            "4\n",
            "{'Z': 3, 'nome': 'Lítio', 'grupo': 'alcalinos', 'densidade': 0.534}\n",
            "{'Z': 3, 'nome': 'Lítio', 'grupo': 'alcalinos', 'densidade': 0.534, 'periodo': 1}\n",
            "dict_items([('Z', 3), ('nome', 'Lítio'), ('grupo', 'alcalinos'), ('densidade', 0.534), ('periodo', 1)])\n",
            "('Z', 3)\n",
            "('nome', 'Lítio')\n",
            "('grupo', 'alcalinos')\n",
            "('densidade', 0.534)\n",
            "('periodo', 1)\n",
            "Z\n",
            "nome\n",
            "grupo\n",
            "densidade\n",
            "periodo\n",
            "Z : 3\n",
            "nome : Lítio\n",
            "grupo : alcalinos\n",
            "densidade : 0.534\n",
            "periodo : 1\n"
          ]
        }
      ],
      "source": [
        "#dicionarios chave = valor\n",
        "\n",
        "elementos = {\n",
        "    'Z' : 3,\n",
        "    'nome' : 'Lítio',\n",
        "    'grupo' : 'metais alcalinos',\n",
        "    'densidade' : 0.534\n",
        "    }\n",
        "\n",
        "print('Elemento: ', elementos['nome'])\n",
        "print('densidade: ', elementos['densidade'])\n",
        "print(len(elementos))\n",
        "\n",
        "#atualizar entrada\n",
        "\n",
        "elementos['grupo'] = 'alcalinos'\n",
        "print(elementos)\n",
        "\n",
        "#adcionar uma entrada\n",
        "\n",
        "elementos['periodo'] = 1\n",
        "print(elementos)\n",
        "\n",
        "# #remover uma entrada\n",
        "\n",
        "# del elementos['periodo']\n",
        "# print(elementos)\n",
        "\n",
        "# #ou .clear\n",
        "\n",
        "# elementos.clear()\n",
        "# print(elementos)\n",
        "\n",
        "# #deletar todo o dicionário\n",
        "\n",
        "# del elementos\n",
        "# print(elementos)\n",
        "\n",
        "print(elementos.items())\n",
        "\n",
        "for i in elementos.items():\n",
        "  print(i)\n",
        "\n",
        "for i in elementos.keys():\n",
        "  print(i)\n",
        "\n",
        "for i, j in elementos.items():\n",
        "  print(f'{i} : {j}')"
      ]
    }
  ]
}