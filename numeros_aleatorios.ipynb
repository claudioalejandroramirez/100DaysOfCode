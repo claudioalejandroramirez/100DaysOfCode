{
  "nbformat": 4,
  "nbformat_minor": 0,
  "metadata": {
    "colab": {
      "provenance": [],
      "authorship_tag": "ABX9TyPHjqWJxyTVjq5UBrhIoWJ8",
      "include_colab_link": true
    },
    "kernelspec": {
      "name": "python3",
      "display_name": "Python 3"
    },
    "language_info": {
      "name": "python"
    }
  },
  "cells": [
    {
      "cell_type": "markdown",
      "metadata": {
        "id": "view-in-github",
        "colab_type": "text"
      },
      "source": [
        "<a href=\"https://colab.research.google.com/github/claudioalejandroramirez/estudos-aleatorios/blob/main/numeros_aleatorios.ipynb\" target=\"_parent\"><img src=\"https://colab.research.google.com/assets/colab-badge.svg\" alt=\"Open In Colab\"/></a>"
      ]
    },
    {
      "cell_type": "code",
      "execution_count": null,
      "metadata": {
        "colab": {
          "base_uri": "https://localhost:8080/"
        },
        "id": "u-__DfwHuMd0",
        "outputId": "df6c7f16-2c54-40a2-9cfa-2e87ffe6c492"
      },
      "outputs": [
        {
          "output_type": "stream",
          "name": "stdout",
          "text": [
            "[1, 2, 3, 4, 5, 6]\n",
            "[6, 3, 1, 2, 5, 4]\n"
          ]
        }
      ],
      "source": [
        " import random as r\n",
        "\n",
        "# # valor = r.randint(1,20)\n",
        "# # print(valor)\n",
        "\n",
        "# print('gerar 5 numeros aleatorios entre  1  e  60: \\n')\n",
        "# for i in range(6):\n",
        "#     n = r.randint(1,60)\n",
        "#     print(n)\n",
        "\n",
        "# valor = r.random()\n",
        "# #round(x*y, quantas casas decimais vc quiser)\n",
        "# print(round(valor * 10,2))\n",
        "\n",
        "\n",
        "# valor = r.uniform(1,100)\n",
        "# print(f'numero: {round(valor, 4)}')\n",
        "\n",
        "l = [1,2,3,4,5,6]\n",
        "# n = r.choice(l)\n",
        "# print(f'Numero escolhido {n}')\n",
        "\n",
        "# n = r.sample(l, 3)\n",
        "# print(n)\n",
        "\n",
        "#embaralhar\n",
        "print(l)\n",
        "n = r.shuffle(l)\n",
        "print(l)\n"
      ]
    }
  ]
}