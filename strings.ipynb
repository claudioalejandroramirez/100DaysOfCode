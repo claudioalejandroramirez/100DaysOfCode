{
  "cells": [
    {
      "cell_type": "markdown",
      "metadata": {
        "id": "view-in-github",
        "colab_type": "text"
      },
      "source": [
        "<a href=\"https://colab.research.google.com/github/claudioalejandroramirez/estudos-aleatorios/blob/main/strings.ipynb\" target=\"_parent\"><img src=\"https://colab.research.google.com/assets/colab-badge.svg\" alt=\"Open In Colab\"/></a>"
      ]
    },
    {
      "cell_type": "code",
      "execution_count": 5,
      "metadata": {
        "colab": {
          "base_uri": "https://localhost:8080/"
        },
        "id": "JZs5g2MmMdkH",
        "outputId": "61c9a222-f792-4f21-f7bf-79f4aa318abd"
      },
      "outputs": [
        {
          "output_type": "stream",
          "name": "stdout",
          "text": [
            "True\n",
            "False\n"
          ]
        }
      ],
      "source": [
        "# # # # # nome = 'Claudio'\n",
        "# # # # # ex = 'exemplos'\n",
        "# # # # # #concatenação de strings\n",
        "# # # # # print('Alguns ' + ex + ' com ' + nome)\n",
        "# # # # # letra = nome[0]\n",
        "# # # # # print(letra)\n",
        "# # # # # print(len(nome))\n",
        "\n",
        "# # # # # frase = 'Vamos aprender python hoje'\n",
        "# # # # # #usar o .split faz com que cada palavra da string vire o item de uma lista\n",
        "# # # # # palavras = frase.split()\n",
        "# # # # # print(palavras)\n",
        "# # # # # print(palavras[0])\n",
        "\n",
        "# # # # # for palavra in palavras:\n",
        "# # # # #   print(palavra)\n",
        "\n",
        "# # # # # for letra in frase:\n",
        "# # # # #   print(letra)\n",
        "\n",
        "# # # # # #slice\n",
        "# # # # # print(frase[0:5])\n",
        "# # # # # print(frase[-5:])\n",
        "\n",
        "# # # # # #.find\n",
        "# # # # # email = input('digite seu email: ')\n",
        "# # # # # arroba = email.find('@')\n",
        "# # # # # print(arroba)\n",
        "# # # # # usuario = email[:arroba]\n",
        "# # # # # dominio = email[arroba+1:]\n",
        "# # # # # print(usuario)\n",
        "# # # # # print(dominio)\n",
        "\n",
        "# # # # #in e not in\n",
        "# # # # produtos = 'carbonato de sódio e oxido de zinco'\n",
        "\n",
        "# # # # print('sódio' in produtos)\n",
        "# # # # print('magnésio' not in produtos)\n",
        "\n",
        "# # # #encontrar sub-string\n",
        "# # # # item = 'hipoclorito'\n",
        "# # # # pos = item.find('clo')\n",
        "# # # # print(pos)\n",
        "# # # # pos = item.find('flu')\n",
        "# # # # print(pos)\n",
        "\n",
        "# # # # email = input('digite seu email: ')\n",
        "# # # # arroba = email.find('@')\n",
        "# # # # while arroba == -1:\n",
        "# # # #   email = input('Email INVÁLIDO, digite seu email: ')\n",
        "# # # #   arroba = email.find('@')\n",
        "# # # # print(email + ' agora vc está cadastrado')\n",
        "\n",
        "# # # #maiusculos e minusculos\n",
        "# # # corpo_celeste = 'galáxia esPiral M31'\n",
        "# # # #maiuscula\n",
        "# # # print(corpo_celeste.upper())\n",
        "# # # #minuscula\n",
        "# # # print(corpo_celeste.lower())\n",
        "# # # #primeira letra de cada palavra em maiuscula\n",
        "# # # print(corpo_celeste.title())\n",
        "# # # #somente o primeiro carcter maiusculo\n",
        "# # # print(corpo_celeste.capitalize())\n",
        "\n",
        "# # #a string é imutavel, mas com isso podemos substitur alguns termos\n",
        "# # suplemento = 'cloreto de magnésio'\n",
        "# # n_suplemento = suplemento.replace('magnésio', 'zinco')\n",
        "# # print(suplemento)\n",
        "# # print(n_suplemento)\n",
        "\n",
        "# #remover espaço em branco\n",
        "# frase = '        Ômega 3 é bom para a saúde!        '\n",
        "# print(frase.lstrip())\n",
        "# # print(frase.rstrip())\n",
        "# print(frase.strip())\n",
        "\n",
        "# #alinhamento de texto para exibição\n",
        "# fruta = 'abacate'\n",
        "# print(fruta.rjust(20))\n",
        "# print(fruta.center(20))\n",
        "# print(fruta.ljust(20, '-'))\n",
        "# print(fruta.center(20, '-'))\n",
        "\n",
        "#prefixos e sufixos\n",
        "p = 'Claudio trabalha'\n",
        "#é na verdade uma pergunta: a variável p começa com Cl?\n",
        "print(p.startswith('Cl'))\n",
        "print(p.endswith('Cl'))\n",
        "\n",
        "'''\n",
        "uma docstring é um tipo de  comentario que descreve o que a função faz.\n",
        "respeita identação e é multi\n",
        "linhas\n",
        "'''\n",
        "\n",
        "\n",
        "\n"
      ]
    }
  ],
  "metadata": {
    "colab": {
      "provenance": [],
      "authorship_tag": "ABX9TyPRqyoQjSrCK+4YCbCyW7tl",
      "include_colab_link": true
    },
    "kernelspec": {
      "display_name": "Python 3",
      "name": "python3"
    },
    "language_info": {
      "name": "python"
    }
  },
  "nbformat": 4,
  "nbformat_minor": 0
}