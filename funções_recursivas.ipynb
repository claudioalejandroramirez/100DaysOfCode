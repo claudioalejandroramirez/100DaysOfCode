{
  "nbformat": 4,
  "nbformat_minor": 0,
  "metadata": {
    "colab": {
      "provenance": [],
      "authorship_tag": "ABX9TyMKt2BB+9PquVnvNohOzdYK",
      "include_colab_link": true
    },
    "kernelspec": {
      "name": "python3",
      "display_name": "Python 3"
    },
    "language_info": {
      "name": "python"
    }
  },
  "cells": [
    {
      "cell_type": "markdown",
      "metadata": {
        "id": "view-in-github",
        "colab_type": "text"
      },
      "source": [
        "<a href=\"https://colab.research.google.com/github/claudioalejandroramirez/estudos-aleatorios/blob/main/fun%C3%A7%C3%B5es_recursivas.ipynb\" target=\"_parent\"><img src=\"https://colab.research.google.com/assets/colab-badge.svg\" alt=\"Open In Colab\"/></a>"
      ]
    },
    {
      "cell_type": "code",
      "execution_count": 6,
      "metadata": {
        "colab": {
          "base_uri": "https://localhost:8080/"
        },
        "id": "TbD__V-jCZ3k",
        "outputId": "ff418a66-094f-41ff-cff0-81204c59569b"
      },
      "outputs": [
        {
          "output_type": "stream",
          "name": "stdout",
          "text": [
            "Digite um numero: 1000\n",
            "O numero fornecido é muito grande ou negativo\n"
          ]
        }
      ],
      "source": [
        "#recursividade// problema // fatorial de um numero de forma recursiva\n",
        "\n",
        "#fórmula geral para o fatorial\n",
        "#fatorial(num) = 1, se num = 0 ou se num = 1 'caso-base'\n",
        "#fatorial(num) = num * fatorial(num -1), para num > 1 'caso-recursivo'\n",
        "\n",
        "def fatorial(numero):\n",
        "    if numero == 0 or numero == 1:\n",
        "        return 1\n",
        "    else:\n",
        "        return numero * fatorial(numero - 1)\n",
        "\n",
        "if __name__ == '__main__':\n",
        "\n",
        "    x = int(input('Digite um numero: '))\n",
        "    try:\n",
        "      res = fatorial(x)\n",
        "    except RecursionError:\n",
        "      print('O numero fornecido é muito grande ou negativo')\n",
        "    else:\n",
        "      print(f'fatorial de {x} é {res}')\n",
        "\n"
      ]
    }
  ]
}