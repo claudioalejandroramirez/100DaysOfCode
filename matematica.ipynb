{
  "nbformat": 4,
  "nbformat_minor": 0,
  "metadata": {
    "colab": {
      "provenance": [],
      "authorship_tag": "ABX9TyPckv8+IpRqNIWtnJ9ObX7W",
      "include_colab_link": true
    },
    "kernelspec": {
      "name": "python3",
      "display_name": "Python 3"
    },
    "language_info": {
      "name": "python"
    }
  },
  "cells": [
    {
      "cell_type": "markdown",
      "metadata": {
        "id": "view-in-github",
        "colab_type": "text"
      },
      "source": [
        "<a href=\"https://colab.research.google.com/github/claudioalejandroramirez/estudos-aleatorios/blob/main/matematica.ipynb\" target=\"_parent\"><img src=\"https://colab.research.google.com/assets/colab-badge.svg\" alt=\"Open In Colab\"/></a>"
      ]
    },
    {
      "cell_type": "code",
      "execution_count": 4,
      "metadata": {
        "colab": {
          "base_uri": "https://localhost:8080/"
        },
        "id": "WHpah74kW82w",
        "outputId": "ddee9b58-0b6a-4583-e848-aec37b2a621a"
      },
      "outputs": [
        {
          "output_type": "stream",
          "name": "stdout",
          "text": [
            "2.0\n",
            "3.141592653589793\n",
            "40320\n",
            "0.0\n"
          ]
        }
      ],
      "source": [
        "# # # funções builtin\n",
        "\n",
        "# # valores = [2,5,6,-4,0,-1]\n",
        "\n",
        "# # print(max(valores))\n",
        "# # print(min(valores))\n",
        "\n",
        "# # #imprimir valor absoluto abs\n",
        "# # a = -5\n",
        "# # b = 7\n",
        "\n",
        "# # print(abs(a))\n",
        "# # print(abs(b))\n",
        "\n",
        "# # #exponenciação power pow\n",
        "# # print(pow(a,b))\n",
        "\n",
        "# # # arredondamento\n",
        "# # c = 1.0000839812\n",
        "# # print(round(c,1))\n",
        "\n",
        "# # #modulos (math)\n",
        "\n",
        "# import math as m\n",
        "\n",
        "# x = 8\n",
        "# y = 100\n",
        "\n",
        "# # raiz_2 = m.sqrt(x)\n",
        "\n",
        "# # print(round(raiz_2, 2))\n",
        "# # print(m.ceil(raiz_2))\n",
        "# # print(m.floor(raiz_2))\n",
        "\n",
        "# logaritimo = m.log10(y)\n",
        "# print(logaritimo)\n",
        "# print(m.pi)\n",
        "# print(m.factorial(x))\n",
        "# # print(x / m.inf)"
      ]
    }
  ]
}