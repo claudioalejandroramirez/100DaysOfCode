{
  "nbformat": 4,
  "nbformat_minor": 0,
  "metadata": {
    "colab": {
      "provenance": [],
      "authorship_tag": "ABX9TyNi/qtEHe8gXVBJQ70/wpzT",
      "include_colab_link": true
    },
    "kernelspec": {
      "name": "python3",
      "display_name": "Python 3"
    },
    "language_info": {
      "name": "python"
    }
  },
  "cells": [
    {
      "cell_type": "markdown",
      "metadata": {
        "id": "view-in-github",
        "colab_type": "text"
      },
      "source": [
        "<a href=\"https://colab.research.google.com/github/claudioalejandroramirez/estudos-aleatorios/blob/main/print.ipynb\" target=\"_parent\"><img src=\"https://colab.research.google.com/assets/colab-badge.svg\" alt=\"Open In Colab\"/></a>"
      ]
    },
    {
      "cell_type": "code",
      "execution_count": null,
      "metadata": {
        "colab": {
          "base_uri": "https://localhost:8080/"
        },
        "id": "UdusjuTzjFDG",
        "outputId": "79f3f9e1-2594-404a-a07d-556f3153a6ad"
      },
      "outputs": [
        {
          "output_type": "stream",
          "name": "stdout",
          "text": [
            "Nome: joao\tIdade: 30\n"
          ]
        }
      ],
      "source": [
        "# # sintaxe\n",
        "# # print(objetos, argumentos)\n",
        "\n",
        "# msg = 'funcao print()'\n",
        "\n",
        "# print(msg)\n",
        "# print('aula de python')\n",
        "\n",
        "# nome = 'claudio'\n",
        "# print('exame - ', nome)\n",
        "\n",
        "\n",
        "# nome = input('digite seu nome: ')\n",
        "# msg = ('Olá ' + nome + '! bem-vindo à exame')\n",
        "\n",
        "# print(msg)\n",
        "\n",
        "# print('imprime e muda')\n",
        "# print('imprime e permanece', end=' ')\n",
        "# print('continuo')\n",
        "\n",
        "# nome = 'Maria'\n",
        "# idade = 30\n",
        "# msg_formatada ='o nome dela é {0} e ela tem {1} anos' .format(nome, idade)\n",
        "\n",
        "# print(msg_formatada)\n",
        "\n",
        "# nome = 'fabio'\n",
        "# peso = 73.50\n",
        "# print( f'Olá meu nome é {nome} e meu peso é {peso} quilos')\n",
        "\n",
        "\n",
        "# a = 10\n",
        "# b = 4\n",
        "# res = f'a soma de {a} com {b} é {a+b} '\n",
        "# print(res)\n",
        "\n",
        "# valor = 125.128456\n",
        "# print(f'o valor é \\'{valor:.2f}\\'')\n",
        "\n",
        "nome =  'joao'\n",
        "idade = 30\n",
        "print(f'Nome: {nome}\\tIdade: {idade}')"
      ]
    }
  ]
}