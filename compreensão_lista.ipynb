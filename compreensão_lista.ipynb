{
  "nbformat": 4,
  "nbformat_minor": 0,
  "metadata": {
    "colab": {
      "provenance": [],
      "authorship_tag": "ABX9TyMhgbXMNM0SXgh6bLj1WuqH",
      "include_colab_link": true
    },
    "kernelspec": {
      "name": "python3",
      "display_name": "Python 3"
    },
    "language_info": {
      "name": "python"
    }
  },
  "cells": [
    {
      "cell_type": "markdown",
      "metadata": {
        "id": "view-in-github",
        "colab_type": "text"
      },
      "source": [
        "<a href=\"https://colab.research.google.com/github/claudioalejandroramirez/estudos-aleatorios/blob/main/compreens%C3%A3o_lista.ipynb\" target=\"_parent\"><img src=\"https://colab.research.google.com/assets/colab-badge.svg\" alt=\"Open In Colab\"/></a>"
      ]
    },
    {
      "cell_type": "code",
      "execution_count": 9,
      "metadata": {
        "colab": {
          "base_uri": "https://localhost:8080/"
        },
        "id": "NiX8sMmZKQGX",
        "outputId": "aa342415-e196-4450-9ad6-396f620fcfc9"
      },
      "outputs": [
        {
          "output_type": "stream",
          "name": "stdout",
          "text": [
            "[12, 14, 16, 18, 21, 24, 30, 35, 40]\n"
          ]
        }
      ],
      "source": [
        "### compreensão de lista\n",
        "\n",
        "#sintase\n",
        "'''\n",
        "[expressão for item in lista]\n",
        "onde expressão é a expressão que será avaliada\n",
        "para cada elemento em lista, e item é a variavel\n",
        "que representa cada elemento na lista\n",
        "'''\n",
        "\n",
        "numeros = [1,2,3,4,5]\n",
        "\n",
        "#exemplo com map\n",
        "\n",
        "# quadrados = list(map(lambda x: x**2, numeros))\n",
        "# print(quadrados)\n",
        "\n",
        "#exemplo com list comprehension\n",
        "\n",
        "# quadrados = [x**2 for x in numeros]\n",
        "# print(quadrados)\n",
        "\n",
        "# #Criar uma lista de numeros pares de 0 a 10\n",
        "# pares = [x for x in range(11) if x % 2 == 0]\n",
        "# print(pares)\n",
        "\n",
        "# #Criar uma lista de numeros impares de 0 a 10\n",
        "# impares = [x for x in range(11) if x % 2 != 0]\n",
        "# print(impares)\n",
        "\n",
        "#trabalhar com strings\n",
        "\n",
        "# frase = 'A lógica é apenas o princípio da sabedoria, e não o seu fim'\n",
        "# vogais = ['a','e','i','o','u','á','é','í','ó','ú','ã']\n",
        "# lista_vogais = [letra for letra in frase if letra in vogais]\n",
        "# print(f'A frase possui {len(lista_vogais)} vogais:')\n",
        "# print(lista_vogais)\n",
        "\n",
        "#encadeamento de laços de repetição\n",
        "#distributivas entre valores de 2 listas\n",
        "\n",
        "distributiva = [k * m for k in [2,3,5] for m in [6,7,8]]\n",
        "print(distributiva)\n"
      ]
    }
  ]
}