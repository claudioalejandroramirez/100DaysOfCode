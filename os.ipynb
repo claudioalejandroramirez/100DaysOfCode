{
  "nbformat": 4,
  "nbformat_minor": 0,
  "metadata": {
    "colab": {
      "provenance": [],
      "authorship_tag": "ABX9TyMTGY8K0NqOvJ/8T5Hkzafw",
      "include_colab_link": true
    },
    "kernelspec": {
      "name": "python3",
      "display_name": "Python 3"
    },
    "language_info": {
      "name": "python"
    }
  },
  "cells": [
    {
      "cell_type": "markdown",
      "metadata": {
        "id": "view-in-github",
        "colab_type": "text"
      },
      "source": [
        "<a href=\"https://colab.research.google.com/github/claudioalejandroramirez/estudos-aleatorios/blob/main/os.ipynb\" target=\"_parent\"><img src=\"https://colab.research.google.com/assets/colab-badge.svg\" alt=\"Open In Colab\"/></a>"
      ]
    },
    {
      "cell_type": "code",
      "execution_count": null,
      "metadata": {
        "id": "OfN5Xxb6XXWv"
      },
      "outputs": [],
      "source": [
        "import os\n",
        "\n",
        "os.chdir('C:\\\\Teste')\n",
        "print(f'Diretorio atual: {os.getcw()}')\n",
        "\n",
        "pdrao_nomes = input('Digite o padrão de nomes dos arquivos sem a extenção:')\n",
        "\n",
        "for contador, arq in enumerete(os.listdir()):\n",
        "  if os.path.isfile(arq:)\n",
        "    nome_arq, ext_arq = os.path.splitext(arq)\n",
        "    nome_arq = padrao_nomes + ' ' + str(contador)\n",
        "\n",
        "    nome_novo = f'{nome_arq}{ext_arq}'\n",
        "    os.rename(arq, nome_novo)\n",
        "print('Arquivos renomeados com sucesso!')"
      ]
    }
  ]
}